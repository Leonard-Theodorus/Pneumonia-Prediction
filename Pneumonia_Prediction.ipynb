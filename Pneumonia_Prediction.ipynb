{
  "nbformat": 4,
  "nbformat_minor": 0,
  "metadata": {
    "colab": {
      "name": "Pneumonia Predictionipynb",
      "provenance": [],
      "collapsed_sections": [],
      "mount_file_id": "1q5z3-yeD9LrF2R5CYduTvw0eDW_veVWh",
      "authorship_tag": "ABX9TyNeVlBKoHUfHLSKmwh7RPZu"
    },
    "kernelspec": {
      "name": "python3",
      "display_name": "Python 3"
    },
    "language_info": {
      "name": "python"
    }
  },
  "cells": [
    {
      "cell_type": "code",
      "execution_count": 1,
      "metadata": {
        "id": "dvmG5XfLr5Z5"
      },
      "outputs": [],
      "source": [
        "from google.colab import files"
      ]
    },
    {
      "cell_type": "code",
      "source": [
        "import os\n",
        "import tensorflow as tf\n",
        "import cv2 as cv\n",
        "import numpy as np\n",
        "keras = tf.keras"
      ],
      "metadata": {
        "id": "Ire8snsHwGCb"
      },
      "execution_count": 31,
      "outputs": []
    },
    {
      "cell_type": "code",
      "source": [
        "homepath = \"content/drive/MyDrive\"\n",
        "filename = \"Pneumonia_prediction.h5\"\n",
        "model = keras.models.load_model(\"/content/drive/MyDrive/Colab Notebooks/Pneumonia_prediction.h5\")\n"
      ],
      "metadata": {
        "id": "5DrbNdOTwfvf"
      },
      "execution_count": 13,
      "outputs": []
    },
    {
      "cell_type": "code",
      "source": [
        "def take_predict():\n",
        "  idx = int(input(\"Pick number [0-624]: \"))\n",
        "  list_img = os.listdir(\"/content/drive/MyDrive/Dataset/test\")\n",
        "  picked = list_img[idx]\n",
        "  predict_data = []\n",
        "  img_path = os.path.join(\"/content/drive/MyDrive/Dataset/test\", picked)\n",
        "  image = cv.imread(img_path)\n",
        "  try:\n",
        "    resized_img = cv.resize(image, (256,256))\n",
        "    predict_data.append([resized_img])\n",
        "  except Exception as e:\n",
        "    print(e)\n",
        "  predict_data = np.array(predict_data) / 255\n",
        "  prediction = model.predict(predict_data[0])\n",
        "  class_names = ['Pneumonia', 'Normal']\n",
        "  val = prediction[0][np.argmax(prediction[0])] * 100\n",
        "  res = class_names[np.argmax(prediction[0])]\n",
        "  print(f\"Predicted {val}% {res}\")\n",
        "take_predict()"
      ],
      "metadata": {
        "colab": {
          "base_uri": "https://localhost:8080/"
        },
        "id": "zRxw3Nb3yqWx",
        "outputId": "0a958848-7d81-43f8-8ced-588f6fc3cf2e"
      },
      "execution_count": 52,
      "outputs": [
        {
          "output_type": "stream",
          "name": "stdout",
          "text": [
            "Pick number [0-624]: 320\n",
            "Predicted 87.60095834732056% Normal\n"
          ]
        }
      ]
    }
  ]
}