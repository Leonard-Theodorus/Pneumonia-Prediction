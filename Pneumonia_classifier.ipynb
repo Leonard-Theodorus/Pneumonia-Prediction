{
  "nbformat": 4,
  "nbformat_minor": 0,
  "metadata": {
    "colab": {
      "name": "Pneumonia classifier.ipynb",
      "provenance": [],
      "collapsed_sections": [],
      "mount_file_id": "118SGUoPQ3N2HcvHLgavLAM8YXtj4eOAx",
      "authorship_tag": "ABX9TyMRHQXMj/LnRa8kJVMIW7RF"
    },
    "kernelspec": {
      "name": "python3",
      "display_name": "Python 3"
    },
    "language_info": {
      "name": "python"
    }
  },
  "cells": [
    {
      "cell_type": "code",
      "execution_count": 1,
      "metadata": {
        "id": "zvpl_yGoN2sc",
        "colab": {
          "base_uri": "https://localhost:8080/"
        },
        "outputId": "3809fe01-1aca-4e56-c639-149ea2e38592"
      },
      "outputs": [
        {
          "output_type": "stream",
          "name": "stderr",
          "text": [
            "c:\\users\\leonard\\appdata\\local\\programs\\python\\python39\\lib\\site-packages\\scipy\\__init__.py:138: UserWarning: A NumPy version >=1.16.5 and <1.23.0 is required for this version of SciPy (detected version 1.23.2)\n",
            "  warnings.warn(f\"A NumPy version >={np_minversion} and <{np_maxversion} is required for this version of \"\n"
          ]
        }
      ],
      "source": [
        "import tensorflow as tf\n",
        "import os\n",
        "import numpy as np\n"
      ]
    },
    {
      "cell_type": "code",
      "source": [
        "filepath = \"\\Dataset\"\n",
        "filename = \"traindata.npy\"\n",
        "filename2 = \"trainlabel.npy\""
      ],
      "metadata": {
        "id": "macvE7mjwB1L"
      },
      "execution_count": 2,
      "outputs": []
    },
    {
      "cell_type": "code",
      "source": [
        "traindata = np.load(os.path.join(filepath,filename))\n",
        "trainlabel = np.load(os.path.join(filepath, filename2))"
      ],
      "metadata": {
        "id": "nIR8jvbfwvb_"
      },
      "execution_count": 3,
      "outputs": []
    },
    {
      "cell_type": "code",
      "source": [
        "trainlabel = tf.keras.utils.to_categorical(trainlabel)"
      ],
      "metadata": {
        "id": "qGFPDv39zhKn",
        "colab": {
          "base_uri": "https://localhost:8080/"
        },
        "outputId": "dc0aab00-b235-4fc3-ecbf-ba383bae88a0"
      },
      "execution_count": 15,
      "outputs": [
        {
          "output_type": "stream",
          "name": "stdout",
          "text": [
            "[[1. 0.]\n",
            " [0. 1.]]\n"
          ]
        }
      ]
    },
    {
      "cell_type": "code",
      "source": [
        "keras = tf.keras"
      ],
      "metadata": {
        "id": "YyvRSZLN0PID"
      },
      "execution_count": 5,
      "outputs": []
    },
    {
      "cell_type": "code",
      "source": [
        "batch_size = 64\n",
        "epochs = 8\n",
        "shuffle_buffer = 1000\n",
        "train_data = tf.data.Dataset.from_tensor_slices((traindata, trainlabel))\n",
        "train_data = train_data.shuffle(shuffle_buffer).batch(batch_size)"
      ],
      "metadata": {
        "id": "q3MfewXMYZTD"
      },
      "execution_count": 6,
      "outputs": []
    },
    {
      "cell_type": "code",
      "source": [
        "base_model = keras.applications.ResNet50(include_top=False, weights='imagenet', input_shape=(256,256,3))\n",
        "base_model.summary()\n"
      ],
      "metadata": {
        "id": "3G11uUcW2ZgW"
      },
      "execution_count": null,
      "outputs": []
    },
    {
      "cell_type": "code",
      "source": [
        "base_model.trainable=False"
      ],
      "metadata": {
        "id": "l4wNKnq93CBQ"
      },
      "execution_count": 8,
      "outputs": []
    },
    {
      "cell_type": "code",
      "source": [
        "print(train_data)"
      ],
      "metadata": {
        "colab": {
          "base_uri": "https://localhost:8080/"
        },
        "id": "iJZTB_pidJYt",
        "outputId": "abf8a3fa-8669-4aa4-dcb3-169ff71be533"
      },
      "execution_count": 11,
      "outputs": [
        {
          "output_type": "stream",
          "name": "stdout",
          "text": [
            "<BatchDataset element_spec=(TensorSpec(shape=(None, 256, 256, 3), dtype=tf.float64, name=None), TensorSpec(shape=(None, 2), dtype=tf.float32, name=None))>\n"
          ]
        }
      ]
    },
    {
      "cell_type": "code",
      "source": [
        "poolinglayer = keras.layers.GlobalAveragePooling2D()\n",
        "predictlayer = keras.layers.Dense(2,activation='softmax')"
      ],
      "metadata": {
        "id": "8KKrctpJT8xI"
      },
      "execution_count": 9,
      "outputs": []
    },
    {
      "cell_type": "code",
      "source": [
        "model = keras.Sequential([\n",
        "    base_model,\n",
        "    poolinglayer,\n",
        "    predictlayer\n",
        "])"
      ],
      "metadata": {
        "id": "13YMDRljdbeE"
      },
      "execution_count": 10,
      "outputs": []
    },
    {
      "cell_type": "code",
      "source": [
        "model.summary()"
      ],
      "metadata": {
        "colab": {
          "base_uri": "https://localhost:8080/"
        },
        "id": "zIwcUERhdgI3",
        "outputId": "f5d69ed7-aa7b-4fcb-90fc-c954e90a51bb"
      },
      "execution_count": 12,
      "outputs": [
        {
          "output_type": "stream",
          "name": "stdout",
          "text": [
            "Model: \"sequential\"\n",
            "_________________________________________________________________\n",
            " Layer (type)                Output Shape              Param #   \n",
            "=================================================================\n",
            " resnet50 (Functional)       (None, 8, 8, 2048)        23587712  \n",
            "                                                                 \n",
            " global_average_pooling2d (G  (None, 2048)             0         \n",
            " lobalAveragePooling2D)                                          \n",
            "                                                                 \n",
            " dense (Dense)               (None, 2)                 4098      \n",
            "                                                                 \n",
            "=================================================================\n",
            "Total params: 23,591,810\n",
            "Trainable params: 4,098\n",
            "Non-trainable params: 23,587,712\n",
            "_________________________________________________________________\n"
          ]
        }
      ]
    },
    {
      "cell_type": "code",
      "source": [
        "model.compile(optimizer=keras.optimizers.RMSprop(learning_rate=0.002),loss=keras.losses.CategoricalCrossentropy(), metrics=['accuracy'])"
      ],
      "metadata": {
        "id": "PwRaz5Ctdiv0"
      },
      "execution_count": 13,
      "outputs": []
    },
    {
      "cell_type": "code",
      "source": [
        "history = model.fit(train_data, epochs=epochs)\n",
        "acc = history.history['accuracy']\n",
        "print(acc)"
      ],
      "metadata": {
        "colab": {
          "base_uri": "https://localhost:8080/"
        },
        "id": "7qC-urG8gN0X",
        "outputId": "172a7c47-c512-4156-a51d-3414e03e876c"
      },
      "execution_count": 14,
      "outputs": [
        {
          "output_type": "stream",
          "name": "stdout",
          "text": [
            "Epoch 1/8\n",
            "83/83 [==============================] - 421s 5s/step - loss: 0.5794 - accuracy: 0.7420\n",
            "Epoch 2/8\n",
            "83/83 [==============================] - 413s 5s/step - loss: 0.5010 - accuracy: 0.7643\n",
            "Epoch 3/8\n",
            "83/83 [==============================] - 398s 5s/step - loss: 0.4723 - accuracy: 0.7857\n",
            "Epoch 4/8\n",
            "83/83 [==============================] - 396s 5s/step - loss: 0.4446 - accuracy: 0.7963\n",
            "Epoch 5/8\n",
            "83/83 [==============================] - 406s 5s/step - loss: 0.4203 - accuracy: 0.8000\n",
            "Epoch 6/8\n",
            "83/83 [==============================] - 420s 5s/step - loss: 0.4064 - accuracy: 0.8103\n",
            "Epoch 7/8\n",
            "83/83 [==============================] - 428s 5s/step - loss: 0.3917 - accuracy: 0.8169\n",
            "Epoch 8/8\n",
            "83/83 [==============================] - 429s 5s/step - loss: 0.3847 - accuracy: 0.8243\n",
            "[0.7419598698616028, 0.7642830014228821, 0.7856602072715759, 0.7962542772293091, 0.8000378608703613, 0.8102535009384155, 0.8168747425079346, 0.824252724647522]\n"
          ]
        }
      ]
    },
    {
      "cell_type": "code",
      "source": [
        "test_data = np.load(os.path.join(filepath, \"testdata.npy\"))\n",
        "test_label = np.load(os.path.join(filepath, \"testlabel.npy\"))\n",
        "test_label = keras.utils.to_categorical(test_label)"
      ],
      "metadata": {
        "id": "U4S4zBG4ljaV"
      },
      "execution_count": 28,
      "outputs": []
    },
    {
      "cell_type": "code",
      "source": [
        "model.evaluate(test_data, test_label)"
      ],
      "metadata": {
        "colab": {
          "base_uri": "https://localhost:8080/"
        },
        "id": "zzG6P6aamSRC",
        "outputId": "265ae574-ee04-4763-b33e-af5bf200395a"
      },
      "execution_count": 25,
      "outputs": [
        {
          "output_type": "stream",
          "name": "stdout",
          "text": [
            "20/20 [==============================] - 53s 3s/step - loss: 0.5249 - accuracy: 0.7115\n"
          ]
        },
        {
          "output_type": "execute_result",
          "data": {
            "text/plain": [
              "[0.5249416828155518, 0.7115384340286255]"
            ]
          },
          "metadata": {},
          "execution_count": 25
        }
      ]
    },
    {
      "cell_type": "code",
      "source": [
        "test_data = tf.data.Dataset.from_tensor_slices((test_data, test_label))\n",
        "test_batches = test_data.batch(batch_size)"
      ],
      "metadata": {
        "id": "S8ujwzYRm2KI"
      },
      "execution_count": 29,
      "outputs": []
    },
    {
      "cell_type": "code",
      "source": [
        "predict = model.predict(test_batches)"
      ],
      "metadata": {
        "colab": {
          "base_uri": "https://localhost:8080/"
        },
        "id": "8rC5jVV6oqHW",
        "outputId": "25290668-fda3-428d-bd2d-52983d2c4d4c"
      },
      "execution_count": 31,
      "outputs": [
        {
          "output_type": "stream",
          "name": "stdout",
          "text": [
            "10/10 [==============================] - 46s 5s/step\n"
          ]
        }
      ]
    },
    {
      "cell_type": "code",
      "source": [
        "print(predict[2])"
      ],
      "metadata": {
        "colab": {
          "base_uri": "https://localhost:8080/"
        },
        "id": "70nokXIWpKnK",
        "outputId": "002a4450-6f80-4f0f-f4c9-d2398d86e3e7"
      },
      "execution_count": 35,
      "outputs": [
        {
          "output_type": "stream",
          "name": "stdout",
          "text": [
            "[0.15614226 0.8438577 ]\n"
          ]
        }
      ]
    },
    {
      "cell_type": "code",
      "source": [
        "class_names = [\"Pneumonia\", \"Normal\"]"
      ],
      "metadata": {
        "id": "vLqdHrT-p7-E"
      },
      "execution_count": 42,
      "outputs": []
    },
    {
      "cell_type": "code",
      "source": [
        "model.save(\"Pneumonia_prediction.h5\")"
      ],
      "metadata": {
        "id": "e8CKXWIMqb1U"
      },
      "execution_count": 46,
      "outputs": []
    },
    {
      "cell_type": "code",
      "source": [],
      "metadata": {
        "id": "iiPeF_xFqBmR"
      },
      "execution_count": null,
      "outputs": []
    }
  ]
}