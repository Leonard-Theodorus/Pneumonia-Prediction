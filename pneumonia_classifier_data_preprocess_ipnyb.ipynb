{
  "cells": [
    {
      "cell_type": "code",
      "execution_count": null,
      "metadata": {
        "id": "i5UO4AZCDxcJ",
        "colab": {
          "base_uri": "https://localhost:8080/"
        },
        "outputId": "ea7cc623-4adf-4a48-a94f-458238dd8f9d"
      },
      "outputs": [
        {
          "output_type": "stream",
          "name": "stderr",
          "text": [
            "c:\\users\\leonard\\appdata\\local\\programs\\python\\python39\\lib\\site-packages\\scipy\\__init__.py:138: UserWarning: A NumPy version >=1.16.5 and <1.23.0 is required for this version of SciPy (detected version 1.23.2)\n",
            "  warnings.warn(f\"A NumPy version >={np_minversion} and <{np_maxversion} is required for this version of \"\n"
          ]
        }
      ],
      "source": [
        "import tensorflow as tf\n",
        "import numpy as np\n",
        "import os\n",
        "import matplotlib.pyplot as plt\n",
        "import cv2 as cv\n",
        "import pandas as pd"
      ]
    },
    {
      "cell_type": "code",
      "execution_count": null,
      "metadata": {
        "id": "lcFD_7r63A4p"
      },
      "outputs": [],
      "source": [
        "keras = tf.keras\n",
        "homepath = \"/content\"\n",
        "file_name = \"Chest_xray_Corona_Metadata.csv\"\n",
        "df = pd.read_csv(os.path.join(homepath, \"drive/MyDrive/Dataset\", file_name))\n",
        "df.head()"
      ]
    },
    {
      "cell_type": "code",
      "execution_count": null,
      "metadata": {
        "id": "cKtbEZpRHM4C"
      },
      "outputs": [],
      "source": [
        "replace_key = {'Pnemonia': 1, 'Normal': 0}"
      ]
    },
    {
      "cell_type": "code",
      "execution_count": null,
      "metadata": {
        "id": "angL1Q9UG2YP"
      },
      "outputs": [],
      "source": [
        "df['Label'] = df['Label'].replace(replace_key)\n",
        "train_df = df[df.Dataset_type == 'TRAIN']\n",
        "test_df = df[df.Dataset_type == 'TEST']\n",
        "dataset = []\n",
        "train_df.head()"
      ]
    },
    {
      "cell_type": "code",
      "execution_count": null,
      "metadata": {
        "colab": {
          "background_save": true
        },
        "id": "UI7vEPcYIXZa"
      },
      "outputs": [],
      "source": [
        "for i in range(len(train_df)):\n",
        "  img_name = train_df.loc[i, \"X_ray_image_name\"]\n",
        "  print(img_name)\n",
        "  img_label = train_df.loc[i, \"Label\"]\n",
        "  print(img_label)\n",
        "  img_path = os.path.join(homepath, \"drive/MyDrive/Dataset/train\", img_name)\n",
        "  image = cv.imread(img_path)\n",
        "\n",
        "  try:\n",
        "    resized = cv.resize(image, (256,256))\n",
        "    dataset.append([resized, img_label])\n",
        "  except Exception as e:\n",
        "    print(e)"
      ]
    },
    {
      "cell_type": "code",
      "execution_count": null,
      "metadata": {
        "id": "1M_-Ge-nXyfL"
      },
      "outputs": [],
      "source": [
        "from random import shuffle\n",
        "\n",
        "shuffle(dataset)"
      ]
    },
    {
      "cell_type": "code",
      "execution_count": null,
      "metadata": {
        "id": "ap7dt44gZqBV"
      },
      "outputs": [],
      "source": [
        "train_data = []\n",
        "train_label = []\n",
        "for data,label in dataset:\n",
        "  train_data.append(data)\n",
        "  train_label.append(label)"
      ]
    },
    {
      "cell_type": "code",
      "execution_count": null,
      "metadata": {
        "colab": {
          "base_uri": "https://localhost:8080/"
        },
        "id": "OKUP8PrVarh-",
        "outputId": "9d92967f-fd10-4e73-acf0-5d5a10e099be"
      },
      "outputs": [
        {
          "name": "stdout",
          "output_type": "stream",
          "text": [
            "(5628, 256, 256, 3)\n",
            "(5628,)\n",
            "[[1. 0.]\n",
            " [0. 1.]\n",
            " [0. 1.]\n",
            " ...\n",
            " [1. 0.]\n",
            " [0. 1.]\n",
            " [0. 1.]]\n"
          ]
        }
      ],
      "source": [
        "train_data = np.array(train_data) / 255\n",
        "print(train_data.shape)\n",
        "train_label = np.array(train_label)\n",
        "print(train_label.shape)\n",
        "new_target = keras.utils.to_categorical(train_label)\n",
        "print(new_target)"
      ]
    },
    {
      "cell_type": "code",
      "execution_count": null,
      "metadata": {
        "id": "WuFYjF0pkPv3"
      },
      "outputs": [],
      "source": [
        "np.save('traindata', train_data)\n",
        "np.save('trainlabel', new_target)"
      ]
    },
    {
      "cell_type": "code",
      "source": [
        "testdataset = []\n",
        "for i in range(len(test_df)):\n",
        "  img_name = test_df.loc[i, \"X_ray_image_name\"]\n",
        "  print(img_name)\n",
        "  img_label = test_df.loc[i, \"Label\"]\n",
        "  print(img_label)\n",
        "  img_path = os.path.join(homepath, \"drive/MyDrive/Dataset/test\", img_name)\n",
        "  image = cv.imread(img_path)\n",
        "\n",
        "  try:\n",
        "    resized = cv.resize(image, (256,256))\n",
        "    testdataset.append([resized, img_label])\n",
        "  except Exception as e:\n",
        "    print(e)"
      ],
      "metadata": {
        "id": "tY06kMSmiIcc"
      },
      "execution_count": null,
      "outputs": []
    }
  ],
  "metadata": {
    "colab": {
      "collapsed_sections": [],
      "name": "pneumonia classifier data_preprocess.ipnyb",
      "provenance": [],
      "mount_file_id": "1TbNQ40DZ4jRXIPJ0f5dH3HOPzfVk4O-P",
      "authorship_tag": "ABX9TyOwsx/h3RgyiVfeqHf2mY9f"
    },
    "gpuClass": "standard",
    "kernelspec": {
      "display_name": "Python 3",
      "name": "python3"
    },
    "language_info": {
      "name": "python"
    }
  },
  "nbformat": 4,
  "nbformat_minor": 0
}